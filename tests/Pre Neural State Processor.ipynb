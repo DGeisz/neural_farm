{
 "cells": [
  {
   "cell_type": "code",
   "execution_count": 25,
   "id": "2c83769a",
   "metadata": {},
   "outputs": [],
   "source": [
    "import torch as t\n",
    "import torch.nn as nn\n",
    "\n",
    "info_dim = 64\n",
    "op_dim = 32\n",
    "embed_dim = op_dim + info_dim\n",
    "\n",
    "batch_size = 30\n",
    "\n",
    "long_term_memory_size = 200\n",
    "short_term_memory_size = 150\n",
    "sense_size = 120"
   ]
  },
  {
   "cell_type": "markdown",
   "id": "bfe4ef2e",
   "metadata": {},
   "source": [
    "Operation Indices"
   ]
  },
  {
   "cell_type": "code",
   "execution_count": 38,
   "id": "b84d7463",
   "metadata": {},
   "outputs": [],
   "source": [
    "num_ops = 7\n",
    "op_ids = t.rand((num_ops, op_dim))"
   ]
  },
  {
   "cell_type": "markdown",
   "id": "00aeb2eb",
   "metadata": {},
   "source": [
    "# Cmd Module\n",
    "\n",
    "### This computes the row salience for the cmd module"
   ]
  },
  {
   "cell_type": "code",
   "execution_count": 30,
   "id": "6de77ab1",
   "metadata": {},
   "outputs": [],
   "source": [
    "cmd_row_len = 10\n",
    "crl = cmd_row_len\n",
    "num_cmd_rows = 20\n",
    "\n",
    "cmd = t.rand((batch_size, num_cmd_rows, cmd_row_len, embed_dim))\n",
    "\n",
    "# Summed salience for the entire cmd (batched)\n",
    "cmd_sal = cmd.sum(dim=(-2, -3))\n",
    "row_sum = t.einsum(\"ni,nabi->nab\", cmd_sal, cmd)\n",
    "row_mask = row_sum.softmax(axis=-1)\n",
    "row_sal = t.einsum(\"nijk,nij->nik\", cmd, row_mask)"
   ]
  },
  {
   "cell_type": "markdown",
   "id": "df5e3032",
   "metadata": {},
   "source": [
    "# Data Transfer\n",
    "\n",
    "### This transfers data from the Cmd Module to each submodule to be processed"
   ]
  },
  {
   "cell_type": "code",
   "execution_count": 40,
   "id": "87f29dc4",
   "metadata": {},
   "outputs": [],
   "source": [
    "# Get the op code salience for each cmd row\n",
    "op_sal = row_sal[:, :, :op_dim] \n",
    "\n",
    "# Create the mask mapping data to modules\n",
    "mod_sum = t.einsum(\"nij,kj->nik\", op_sal, op_ids)\n",
    "row_choose_op = mod_sum.softmax(axis=-1)\n",
    "op_choose_row = (1000 * row_choose_op).softmax(axis=-2)\n",
    "op_mask = row_choose_op * op_choose_row\n",
    "\n",
    "op_data = t.einsum(\"nijk,nil->nljk\", cmd, op_mask)\n",
    "op_row_sal = t.einsum(\"nij,nik->nkj\", row_sal, op_mask)"
   ]
  },
  {
   "cell_type": "code",
   "execution_count": 43,
   "id": "4182a16f",
   "metadata": {},
   "outputs": [],
   "source": [
    "# Split op data and op row sal into the appropriate inputs for each module\n",
    "def split_squeeze(t):\n",
    "    return map(lambda x : x.squeeze(), t.split(1, dim=1))"
   ]
  },
  {
   "cell_type": "code",
   "execution_count": 53,
   "id": "5fa11d10",
   "metadata": {},
   "outputs": [],
   "source": [
    "ltm_sal_read_data, \\\n",
    "ltm_121_read_data, \\\n",
    "stm_write_data, \\\n",
    "stm_sal_read_data, \\\n",
    "std_121_read_data, \\\n",
    "sense_read_data, \\\n",
    "sense_write_data = split_squeeze(op_data)\n",
    "\n",
    "ltm_sal_read_sal, \\\n",
    "ltm_121_read_sal, \\\n",
    "stm_write_sal, \\\n",
    "stm_sal_read_sal, \\\n",
    "std_121_read_sal, \\\n",
    "sense_read_sal, \\\n",
    "sense_write_sal = split_squeeze(op_row_sal)"
   ]
  },
  {
   "cell_type": "markdown",
   "id": "85d9b6b0",
   "metadata": {},
   "source": [
    "### This transfers data from the result of the modules back to Cmd "
   ]
  },
  {
   "cell_type": "code",
   "execution_count": 8,
   "id": "1d1af44b",
   "metadata": {},
   "outputs": [],
   "source": [
    "op_result = t.rand(op_data.shape)"
   ]
  },
  {
   "cell_type": "code",
   "execution_count": 9,
   "id": "e15752cc",
   "metadata": {},
   "outputs": [],
   "source": [
    "def scale_cmd(cmd, scale):\n",
    "    return t.einsum(\"nijk,ni->nijk\", cmd, scale)\n",
    "\n",
    "# Determine how much the module result should \n",
    "# contribute to the new value of cmd\n",
    "op_mix = op_mask.sum(axis=-1)\n",
    "\n",
    "# Compute the new mod from the mod result\n",
    "new_op_cmd = t.einsum(\"nijk,nli->nljk\", op_result, op_mask)\n",
    "\n",
    "# Mix the new_cmd and the old_cmd\n",
    "new_cmd = scale_cmd(cmd, 1 - op_mix) + scale_cmd(new_op_cmd, op_mix)"
   ]
  },
  {
   "cell_type": "markdown",
   "id": "85856028",
   "metadata": {},
   "source": [
    "# Long-Term Memory / Instincts\n",
    "\n",
    "### Creating LTM Structures and Helper Tensors"
   ]
  },
  {
   "cell_type": "code",
   "execution_count": 10,
   "id": "e0e103fa",
   "metadata": {},
   "outputs": [],
   "source": [
    "ltm_keys = t.rand((long_term_memory_size, embed_dim))\n",
    "ltm_vals = t.rand((long_term_memory_size, embed_dim))"
   ]
  },
  {
   "cell_type": "code",
   "execution_count": 11,
   "id": "69df8b73",
   "metadata": {},
   "outputs": [],
   "source": [
    "split_size = info_dim // cmd_row_len\n",
    "sal_mask = t.zeros((cmd_row_len, embed_dim))\n",
    "\n",
    "for i in range(cmd_row_len):\n",
    "    start = op_dim + (i * split_size)\n",
    "    sal_mask[i, start:start + split_size] = 1"
   ]
  },
  {
   "cell_type": "markdown",
   "id": "80de3f76",
   "metadata": {},
   "source": [
    "### Salient Graph-Based Read"
   ]
  },
  {
   "cell_type": "code",
   "execution_count": 12,
   "id": "cfbc0522",
   "metadata": {},
   "outputs": [],
   "source": [
    "ld = ltm_sal_read_data\n",
    "ls = ltm_sal_read_sal\n",
    "\n",
    "sal_keys = t.einsum(\"ni,ji->nji\", ls, sal_mask)\n",
    "ltm_sal = t.einsum(\"nij,lj->nil\", sal_keys, ltm_keys).mul(50).softmax(axis=-1)\n",
    "\n",
    "# This is the output\n",
    "ltm_sal_out = t.einsum(\"nij,jk->nik\", ltm_sal, ltm_vals)"
   ]
  },
  {
   "cell_type": "code",
   "execution_count": 13,
   "id": "2e8a8006",
   "metadata": {},
   "outputs": [
    {
     "data": {
      "text/plain": [
       "torch.Size([30, 10, 96])"
      ]
     },
     "execution_count": 13,
     "metadata": {},
     "output_type": "execute_result"
    }
   ],
   "source": [
    "ld.shape"
   ]
  },
  {
   "cell_type": "markdown",
   "id": "04470e68",
   "metadata": {},
   "source": [
    "### One-to-One Graph-Based Read"
   ]
  },
  {
   "cell_type": "code",
   "execution_count": 14,
   "id": "d0b5d139",
   "metadata": {},
   "outputs": [],
   "source": [
    "lod = ltm_121_read_data\n",
    "los = ltm_121_read_sal\n",
    "\n",
    "ltm_121_sal = t.einsum(\"nij,lj->nil\", lod, ltm_keys).mul(5).softmax(axis=-1)\n",
    "ltm_121_out = t.einsum(\"nij,jk->nik\", ltm_121_sal, ltm_vals)"
   ]
  },
  {
   "cell_type": "markdown",
   "id": "ca1fb3ff",
   "metadata": {},
   "source": [
    "# Short-Term Memory\n",
    "\n",
    "### Creating STM Structures "
   ]
  },
  {
   "cell_type": "code",
   "execution_count": 26,
   "id": "bd72d56f",
   "metadata": {},
   "outputs": [],
   "source": [
    "# These are fixed or learned\n",
    "stm_locs = t.rand((short_term_memory_size, embed_dim))\n",
    "\n",
    "# These are transient, namely they are set while running the processor\n",
    "stm_keys = t.rand((batch_size, short_term_memory_size, embed_dim))\n",
    "stm_vals = t.rand((batch_size, short_term_memory_size, embed_dim))"
   ]
  },
  {
   "cell_type": "code",
   "execution_count": 17,
   "id": "7dc97196",
   "metadata": {},
   "outputs": [],
   "source": [
    "# These masks are useful for writing key value pairs\n",
    "num_lkv_triples = crl // 3\n",
    "nlt = num_lkv_triples\n",
    "\n",
    "l_mask = t.zeros((nlt, crl))\n",
    "k_mask = t.zeros((nlt, crl))\n",
    "v_mask = t.zeros((nlt, crl))\n",
    "            \n",
    "for i in range(num_lkv_triples * 3):\n",
    "    i3 = i % 3\n",
    "    n3 = i // 3\n",
    "    \n",
    "    if i3 == 0:\n",
    "        l_mask[n3, i] = 1\n",
    "    elif i3 == 1:\n",
    "        k_mask[n3, i] = 1\n",
    "    elif i3 == 2:\n",
    "        v_mask[n3, i] = 1"
   ]
  },
  {
   "cell_type": "markdown",
   "id": "70f13d27",
   "metadata": {},
   "source": [
    "### Write Key Value Pairs To Locations"
   ]
  },
  {
   "cell_type": "code",
   "execution_count": 18,
   "id": "24527959",
   "metadata": {},
   "outputs": [],
   "source": [
    "swd = stm_write_data\n",
    "sws = stm_write_sal\n",
    "\n",
    "e_sum = \"nik,ji->njk\"\n",
    "\n",
    "locs = t.einsum(e_sum, swd, l_mask)\n",
    "keys = t.einsum(e_sum, swd, k_mask)\n",
    "vals = t.einsum(e_sum, swd, v_mask)\n",
    "\n",
    "stm_sal = t.einsum(\"njk,lk->njl\", locs, stm_locs).mul(20).softmax(axis=-1)\n",
    "mask = t.einsum(\"nik->nk\", stm_sal)\n",
    "\n",
    "e_mask = \"njk,njl->nkl\"\n",
    "new_keys = t.einsum(e_mask, stm_sal, keys)\n",
    "new_vals = t.einsum(e_mask, stm_sal, vals)\n",
    "\n",
    "def s_mask(mask, vals):\n",
    "    return t.einsum(\"ni,nij->nij\", mask, vals)\n",
    "\n",
    "stm_keys = s_mask(mask, new_keys) + s_mask((1 - mask), stm_keys)\n",
    "stm_vals = s_mask(mask, new_vals) + s_mask((1 - mask), stm_vals)"
   ]
  },
  {
   "cell_type": "markdown",
   "id": "6c3ec1c5",
   "metadata": {},
   "source": [
    "### Short-Term Memory Salient Graph-Based Read"
   ]
  },
  {
   "cell_type": "code",
   "execution_count": 19,
   "id": "feae5cf1",
   "metadata": {},
   "outputs": [],
   "source": [
    "sgd = stm_sal_read_data\n",
    "sgs = stm_sal_read_sal\n",
    "\n",
    "st_sal_keys = t.einsum(\"ni,ji->nji\", sgs, sal_mask)\n",
    "stm_sal = t.einsum(\n",
    "    \"nij,nlj->nil\", sal_keys, stm_keys).mul(\n",
    "    50).softmax(axis=-1)\n",
    "\n",
    "stm_sal_out = t.einsum(\"nij,njk->nik\", stm_sal, stm_vals)"
   ]
  },
  {
   "cell_type": "markdown",
   "id": "14b1ec50",
   "metadata": {},
   "source": [
    "### Short-Term Memory One-to-One Graph based read"
   ]
  },
  {
   "cell_type": "code",
   "execution_count": 46,
   "id": "eec8eee2",
   "metadata": {},
   "outputs": [],
   "source": [
    "sod = std_121_read_data\n",
    "sos = std_121_read_sal\n",
    "\n",
    "\n",
    "stm_121_sal = t.einsum(\"nij,nlj->nil\", sod, stm_keys).mul(5).softmax(axis=-1)\n",
    "stm_121_out = t.einsum(\"nij,njk->nik\", stm_121_sal, stm_vals)\n"
   ]
  },
  {
   "cell_type": "markdown",
   "id": "a9b43e24",
   "metadata": {},
   "source": [
    "# Senses\n",
    "\n",
    "### Initialize Sense Locations"
   ]
  },
  {
   "cell_type": "code",
   "execution_count": 28,
   "id": "0d56bd93",
   "metadata": {},
   "outputs": [],
   "source": [
    "# These are fixed or learned\n",
    "sense_locs = t.rand((sense_size, embed_dim))\n",
    "\n",
    "# These are transient, namely they are\n",
    "# set while running the processor\n",
    "sense_vals = t.rand((batch_size, sense_size, embed_dim))"
   ]
  },
  {
   "cell_type": "code",
   "execution_count": 51,
   "id": "252fd53a",
   "metadata": {},
   "outputs": [],
   "source": [
    "num_sense_doubles = crl // 2\n",
    "nsd = num_sense_doubles\n",
    "\n",
    "sense_k_mask = t.zeros((nsd, crl))\n",
    "sense_v_mask = t.zeros((nsd, crl))\n",
    "            \n",
    "for i in range(nsd * 2):\n",
    "    i2 = i % 2\n",
    "    n2 = i // 2\n",
    "    \n",
    "    if i2 == 0:\n",
    "        sense_k_mask[n2, i] = 1\n",
    "    elif i3 == 1:\n",
    "        sense_v_mask[n2, i] = 1"
   ]
  },
  {
   "cell_type": "markdown",
   "id": "d360cda4",
   "metadata": {},
   "source": [
    "### Read Data"
   ]
  },
  {
   "cell_type": "code",
   "execution_count": 47,
   "id": "0512326e",
   "metadata": {},
   "outputs": [],
   "source": [
    "srd = sense_read_data\n",
    "srs = sense_read_sal\n",
    "\n",
    "sod = std_121_read_data\n",
    "sos = std_121_read_sal\n",
    "\n",
    "\n",
    "sense_read_sal = t.einsum(\"nij,nlj->nil\", srd, stm_keys).mul(5).softmax(axis=-1)\n",
    "sense_read_out = t.einsum(\"nij,njk->nik\", stm_121_sal, stm_vals)\n"
   ]
  },
  {
   "cell_type": "markdown",
   "id": "b432d4f8",
   "metadata": {},
   "source": [
    "### Write Data"
   ]
  },
  {
   "cell_type": "code",
   "execution_count": 54,
   "id": "20df97f3",
   "metadata": {},
   "outputs": [],
   "source": [
    "sewd = sense_write_data\n",
    "sews = sense_write_sal\n",
    "\n",
    "e_sum = \"nik,ji->njk\"\n",
    "\n",
    "keys = t.einsum(e_sum, sewd, sense_k_mask)\n",
    "vals = t.einsum(e_sum, sewd, sense_v_mask)\n",
    "\n",
    "sense_sal = t.einsum(\"njk,lk->njl\", keys, sense_locs).mul(20).softmax(axis=-1)\n",
    "mask = t.einsum(\"nik->nk\", sense_sal)\n",
    "\n",
    "e_mask = \"njk,njl->nkl\"\n",
    "new_vals = t.einsum(e_mask, sense_sal, vals)\n",
    "\n",
    "sense_vals = s_mask(mask, new_vals) + s_mask((1 - mask), sense_vals)"
   ]
  }
 ],
 "metadata": {
  "kernelspec": {
   "display_name": "Python 3 (ipykernel)",
   "language": "python",
   "name": "python3"
  },
  "language_info": {
   "codemirror_mode": {
    "name": "ipython",
    "version": 3
   },
   "file_extension": ".py",
   "mimetype": "text/x-python",
   "name": "python",
   "nbconvert_exporter": "python",
   "pygments_lexer": "ipython3",
   "version": "3.9.12"
  }
 },
 "nbformat": 4,
 "nbformat_minor": 5
}
